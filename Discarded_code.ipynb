{
 "cells": [
  {
   "cell_type": "code",
   "execution_count": null,
   "metadata": {
    "collapsed": true
   },
   "outputs": [],
   "source": [
    "hot_T = pd.DataFrame({'temp':temp_hot}, index=time) rolls_H = hot_T.rolling('300s').std()\n",
    "#print(rolls) plot_H = rolls_H.plot(title='Hot blackbody rolling standard deviation',fontsize=14, figsize=[16,5], grid=True, legend=False) plot_H.title.set_size(20) plt.savefig('Standard_deviation_hot.png')\n",
    "cold_T = pd.DataFrame({'temp':temp_cold}, index=time) rolls_C = cold_T.rolling('300s').std()\n",
    "#print(rolls) plot_C = rolls_C.plot(title='Cold blackbody rolling standard deviation', fontsize=14, figsize=[16,5], grid=True, legend=False) plot_C.title.set_size(20) plt.savefig('Standard_deviation_cold.png')"
   ]
  },
  {
   "cell_type": "code",
   "execution_count": null,
   "metadata": {
    "collapsed": true
   },
   "outputs": [],
   "source": [
    "rolls_H.reset_index().values[10,1] #reset_index converts it into a Python array"
   ]
  },
  {
   "cell_type": "code",
   "execution_count": null,
   "metadata": {
    "collapsed": true
   },
   "outputs": [],
   "source": [
    "def func(num):\n",
    "    temp_hot_slope = []\n",
    "    temp_cold_slope = []\n",
    "    for i in range(len(new_temp_hot)-num):\n",
    "        temp_hot_slope.append((new_temp_hot[i+num]-new_temp_hot[i]))\n",
    "        temp_cold_slope.append((new_temp_cold[i+num]-new_temp_cold[i]))\n",
    "\n",
    "    lags = np.arange(-len(temp_hot_slope) + 1, len(temp_hot_slope))\n",
    "    ccov = np.correlate(temp_hot_slope - np.mean(temp_hot_slope), temp_cold_slope - np.mean(temp_cold_slope), mode='full') #full means all points where the two functions overlap are used. Therefore boundary effects are visible\n",
    "    ccor = ccov / (len(temp_hot_slope) * np.std(temp_hot_slope) * np.std(temp_cold_slope))\n",
    "    maxlag = lags[np.argmax(ccor)]\n",
    "    return(maxlag*2.1/60)\n",
    "\n",
    "list1 = []\n",
    "\n",
    "for n in range(3000):\n",
    "    list1.append(func(n))\n",
    "\n",
    "plt.scatter(np.arange(3000),list1)"
   ]
  },
  {
   "cell_type": "code",
   "execution_count": null,
   "metadata": {
    "collapsed": true
   },
   "outputs": [],
   "source": [
    "from mpl_toolkits.mplot3d import Axes3D\n",
    "import matplotlib.cm as cm\n",
    "\n",
    "def plot_3d_fns_0(start, stop, azimuth=None, elevation=None): #start and stop is roughly the time in seconds\n",
    "    fig = plt.figure(figsize=(16,9))\n",
    "    ax = fig.add_subplot(111, projection='3d')\n",
    "    \n",
    "    ax.scatter(wns_last, rad_last, temps_last, cmap='inferno')\n",
    "\n",
    "\n",
    "plot_deltas(0, wns_last[-1])"
   ]
  },
  {
   "cell_type": "code",
   "execution_count": null,
   "metadata": {
    "collapsed": true
   },
   "outputs": [],
   "source": [
    "def plot_3d_fn(start, stop, azimuth=None, elevation=None): #start and stop is roughly the time in seconds\n",
    "    fig = plt.figure(figsize=(16,9))\n",
    "    ax = fig.add_subplot(111, projection='3d')\n",
    "    \n",
    "    ax.scatter(wns_first, temps_first, rad_first, cmap='inferno')\n",
    "    ax.set_xlabel('Wavenumber')\n",
    "    ax.set_ylabel('Temperature')\n",
    "    ax.set_zlabel('Radiance')\n",
    "\n",
    "plot_3d_fn(0, wns_first[-1])"
   ]
  },
  {
   "cell_type": "code",
   "execution_count": null,
   "metadata": {
    "collapsed": true
   },
   "outputs": [],
   "source": [
    "temps_avg = []\n",
    "temps_std = []\n",
    "\n",
    "for (spectrum, spectrum2_index) in zip(hc_and_times.Spectrum, range(len(hc_and_times.Spectrum))):\n",
    "    i=0\n",
    "    while temp_log.get_value(i, col='Time') <= spectrum:\n",
    "        i += 1   \n",
    "        print(i)\n",
    "    start_time = temp_log.get_value(i-1, col='Time')\n",
    "    print(start_time)\n",
    "    spectrum = hc_and_times.get_value(spectrum2_index+1, col='Spectrum')\n",
    "    print(spectrum)\n",
    "    a=i\n",
    "    print(a)\n",
    "    while temp_log.get_value(a, col='Time') <= spectrum:\n",
    "        a += 1 \n",
    "        print(a)\n",
    "    finish_time = temp_log.get_value(a, col='Time')\n",
    "    print(finish_time)\n",
    "    if hc_and_times.get_value(spectrum2_index, col='hc') == 'c':\n",
    "        temps = temp_log.cold[i:a]\n",
    "    elif hc_and_times.get_value(spectrum2_index, col='hc') == 'NaN':  \n",
    "        temps = [0,0,0]\n",
    "    else:\n",
    "        temps = temp_log.hot[i:a]\n",
    "    temp_avg = np.average(temps)\n",
    "    print(temp_avg)\n",
    "    temps_avg.append(temp_avg)\n",
    "    temp_std = np.std(temps)\n",
    "    print(temp_std)\n",
    "    temps_std.append(temp_std)\n",
    "    "
   ]
  },
  {
   "cell_type": "code",
   "execution_count": null,
   "metadata": {
    "collapsed": true
   },
   "outputs": [],
   "source": [
    "spectra_indices = [1,2,71,72,141,142,211,212,281,283,347,348]\n",
    "wavenums = np.array(raw_wavenumbers)\n",
    "\n",
    "for spectrum in spectra_indices:       #plot planck curve at some temperature\n",
    "    temp_avg = final_frame_4.at[spectrum,'temp_avg']\n",
    "    std = final_frame_4.at[spectrum, 'temp_std']\n",
    "    print(temp_avg)\n",
    "    print(std)\n",
    "    radiances_avg = []\n",
    "    rad_minus = []\n",
    "    rad_plus = []\n",
    "    \n",
    "    for wn in wavenums:\n",
    "        radiances_avg.append(planck(wn, temp_avg+273.15))\n",
    "        rad_minus.append(planck(wn, temp_avg+273.15-std))\n",
    "        rad_plus.append(planck(wn, temp_avg+273.15+std))\n",
    "\n",
    "    fig = plt.figure()\n",
    "    plt.plot([x/100 for x in wavenums], [r*100 for r in radiances_avg]) #might need to *100 once we have dataframe back\n",
    "    plt.plot([x/100 for x in wavenums], [r*100 for r in rad_minus])\n",
    "    plt.plot([x/100 for x in wavenums], [r*100 for r in rad_plus])\n",
    "\n",
    "    plt.title('Blackbody curve $\\pm$ standard deviation for index ' + str(spectrum))\n",
    "    plt.xlabel('wavenumber $cm^{-1}$')\n",
    "    plt.ylabel('radiance $W m^{-2} sr^{-1} (cm^{-1})^{-1}$')\n",
    "    plt.show()"
   ]
  },
  {
   "cell_type": "code",
   "execution_count": null,
   "metadata": {},
   "outputs": [],
   "source": [
    "cut_spectra_times_4 = spectra_times_4[1:len(spectra_times_4)-(len(spectra_times_4)%10-1)] #list of times with assoc. response functions (starts from 1, until 2nd from last)\n",
    "\n",
    "grouped_10_times = np.array(cut_spectra_times_4).reshape(int((len(cut_spectra_times_4))/10),10) #list length=35\n",
    "beginning_10_times = [time[0] for time in grouped_10_times]\n",
    "\n",
    "cut_max_frac_std = max_fractional_std[1:-1] #maximum fractional stds, divisible by 10 (remove first=cold and last=hot)\n",
    "grouped_10_stds = np.array(cut_max_frac_std).reshape(int((len(cut_spectra_times_4))/10),10) #array length=35 of cut_max_frac_std grouped into 10\n",
    "sum_sqs_10_stds = [sum(i**2 for i in grouped_10_stds[t]) for t in range(len(grouped_10_stds))] #sum of 10 values squared in grouped_10_stds\n",
    "average_10_max_stds = [np.sqrt(i) for i in sum_sqs_10_stds] #list length=35, sum of all 10 std dev values, squared rooted (added in quadrature)\n",
    "\n",
    "spectral_std_dev = temp_spectral_std_dev[1:-1] #list of radiance std devs for each of 350 spectra arrays over all 4001 wavelengths (remove first=cold, last=hot)\n",
    "print(len(spectral_std_dev[0]))\n",
    "\n",
    "#print(average_10_max_stds)\n",
    "#print('')\n",
    "#print(beginning_10_times)\n",
    "#print('')\n",
    "#print(spectra_times_4[0])\n",
    "print(np.array(spectral_std_dev).shape)\n",
    "\n",
    "#grouped_resp_fns = np.array(all_resp_functions).reshape(35,5,4001) #array dimensions 35,5,4001: 35 groups of 5 spectra with 4001 points each\n",
    "#average_35_resp_fns = []\n",
    "#plt.plot(wavenums,grouped_resp_fns[0][0])\n",
    "#plt.plot(beginning_10_times, average_10_stds)"
   ]
  },
  {
   "cell_type": "code",
   "execution_count": null,
   "metadata": {},
   "outputs": [],
   "source": [
    "# Plot standard deviation starting from the end to see at what point it stops fluctuating\n",
    "# Take wavenums from 700 to 760 because they have a high response function\n",
    "\n",
    "a = np.array(all_stand_devs).T.tolist()\n",
    "#each element in a represents a wavenumber \n",
    "\n",
    "selected_stds = []\n",
    "for (i,b) in zip(np.arange(len(wavenums)), wavenums):\n",
    "    if 700<b<760:\n",
    "        selected_stds.append(a[i])\n",
    "        \n",
    "print(len(selected_stds))\n",
    "\n",
    "# to do this, would have to access the temp log again because the standard deviations above all include different numbers of temperature measurements"
   ]
  },
  {
   "cell_type": "code",
   "execution_count": null,
   "metadata": {},
   "outputs": [],
   "source": [
    "# what period can we use for stability of measurements.\n",
    "# pick range of wns and plot std from back pick range for strong response"
   ]
  }
 ],
 "metadata": {
  "kernelspec": {
   "display_name": "Python 3",
   "language": "python",
   "name": "python3"
  },
  "language_info": {
   "codemirror_mode": {
    "name": "ipython",
    "version": 3
   },
   "file_extension": ".py",
   "mimetype": "text/x-python",
   "name": "python",
   "nbconvert_exporter": "python",
   "pygments_lexer": "ipython3",
   "version": "3.7.0"
  }
 },
 "nbformat": 4,
 "nbformat_minor": 2
}
