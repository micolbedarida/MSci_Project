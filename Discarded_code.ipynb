{
 "cells": [
  {
   "cell_type": "code",
   "execution_count": null,
   "metadata": {
    "collapsed": true
   },
   "outputs": [],
   "source": [
    "hot_T = pd.DataFrame({'temp':temp_hot}, index=time) rolls_H = hot_T.rolling('300s').std()\n",
    "#print(rolls) plot_H = rolls_H.plot(title='Hot blackbody rolling standard deviation',fontsize=14, figsize=[16,5], grid=True, legend=False) plot_H.title.set_size(20) plt.savefig('Standard_deviation_hot.png')\n",
    "cold_T = pd.DataFrame({'temp':temp_cold}, index=time) rolls_C = cold_T.rolling('300s').std()\n",
    "#print(rolls) plot_C = rolls_C.plot(title='Cold blackbody rolling standard deviation', fontsize=14, figsize=[16,5], grid=True, legend=False) plot_C.title.set_size(20) plt.savefig('Standard_deviation_cold.png')"
   ]
  },
  {
   "cell_type": "code",
   "execution_count": null,
   "metadata": {
    "collapsed": true
   },
   "outputs": [],
   "source": [
    "rolls_H.reset_index().values[10,1] #reset_index converts it into a Python array"
   ]
  },
  {
   "cell_type": "code",
   "execution_count": null,
   "metadata": {
    "collapsed": true
   },
   "outputs": [],
   "source": [
    "def func(num):\n",
    "    temp_hot_slope = []\n",
    "    temp_cold_slope = []\n",
    "    for i in range(len(new_temp_hot)-num):\n",
    "        temp_hot_slope.append((new_temp_hot[i+num]-new_temp_hot[i]))\n",
    "        temp_cold_slope.append((new_temp_cold[i+num]-new_temp_cold[i]))\n",
    "\n",
    "    lags = np.arange(-len(temp_hot_slope) + 1, len(temp_hot_slope))\n",
    "    ccov = np.correlate(temp_hot_slope - np.mean(temp_hot_slope), temp_cold_slope - np.mean(temp_cold_slope), mode='full') #full means all points where the two functions overlap are used. Therefore boundary effects are visible\n",
    "    ccor = ccov / (len(temp_hot_slope) * np.std(temp_hot_slope) * np.std(temp_cold_slope))\n",
    "    maxlag = lags[np.argmax(ccor)]\n",
    "    return(maxlag*2.1/60)\n",
    "\n",
    "list1 = []\n",
    "\n",
    "for n in range(3000):\n",
    "    list1.append(func(n))\n",
    "\n",
    "plt.scatter(np.arange(3000),list1)"
   ]
  },
  {
   "cell_type": "code",
   "execution_count": null,
   "metadata": {
    "collapsed": true
   },
   "outputs": [],
   "source": [
    "from mpl_toolkits.mplot3d import Axes3D\n",
    "import matplotlib.cm as cm\n",
    "\n",
    "def plot_3d_fns_0(start, stop, azimuth=None, elevation=None): #start and stop is roughly the time in seconds\n",
    "    fig = plt.figure(figsize=(16,9))\n",
    "    ax = fig.add_subplot(111, projection='3d')\n",
    "    \n",
    "    ax.scatter(wns_last, rad_last, temps_last, cmap='inferno')\n",
    "\n",
    "\n",
    "plot_deltas(0, wns_last[-1])"
   ]
  },
  {
   "cell_type": "code",
   "execution_count": null,
   "metadata": {
    "collapsed": true
   },
   "outputs": [],
   "source": [
    "def plot_3d_fn(start, stop, azimuth=None, elevation=None): #start and stop is roughly the time in seconds\n",
    "    fig = plt.figure(figsize=(16,9))\n",
    "    ax = fig.add_subplot(111, projection='3d')\n",
    "    \n",
    "    ax.scatter(wns_first, temps_first, rad_first, cmap='inferno')\n",
    "    ax.set_xlabel('Wavenumber')\n",
    "    ax.set_ylabel('Temperature')\n",
    "    ax.set_zlabel('Radiance')\n",
    "\n",
    "plot_3d_fn(0, wns_first[-1])"
   ]
  }
 ],
 "metadata": {
  "kernelspec": {
   "display_name": "Python 3",
   "language": "python",
   "name": "python3"
  },
  "language_info": {
   "codemirror_mode": {
    "name": "ipython",
    "version": 3
   },
   "file_extension": ".py",
   "mimetype": "text/x-python",
   "name": "python",
   "nbconvert_exporter": "python",
   "pygments_lexer": "ipython3",
   "version": "3.6.3"
  }
 },
 "nbformat": 4,
 "nbformat_minor": 2
}
