{
 "cells": [
  {
   "cell_type": "code",
   "execution_count": 93,
   "metadata": {},
   "outputs": [],
   "source": [
    "import numpy as np"
   ]
  },
  {
   "cell_type": "markdown",
   "metadata": {},
   "source": [
    "$\\Large{ \\epsilon_s = \\frac{L^{\\uparrow}_{det} - \\tau\\tau_{eff} L^{\\downarrow}_{det,eff} - \\tau E^{\\uparrow}_{eff} - E^{\\uparrow}}{\\tau \\left[B(T_s) - \\tau_{eff} L^{\\downarrow}_{det,eff} - E^{\\downarrow}_{eff}\\right]} }$,\n",
    "\n",
    "\n",
    "where\n",
    "\n",
    "$\\large{B(T_s)= \\frac{2hc^2 \\nu^3}{exp\\left(\\frac{hc\\nu}{k_B T_s}\\right) -1}} \\equiv \\frac{(1*)}{(2*)}$\n",
    "\n",
    "Sources of error: $L^{\\uparrow}_{det}$, $\\tau$, $\\tau_{eff}$, $L^{\\downarrow}_{eff}$ - $E^{\\uparrow}$, $E^{\\downarrow}_{eff}$, $T_s$, wavenumber $\\nu$\n",
    "\n",
    "$\\epsilon_s \\approx 0.96-0.99$ for snow $\\implies$ want $\\epsilon_s$ to within $0.01$.\n",
    "\n",
    "$400$ cm $^{-1} < \\nu < 2000$ cm $^{-1}$\n",
    "\n",
    "$220$ K $< T_s < 300$ K"
   ]
  },
  {
   "cell_type": "code",
   "execution_count": 94,
   "metadata": {},
   "outputs": [],
   "source": [
    "h = 6.626e-34\n",
    "c = 299792458\n",
    "k = 1.381e-23\n",
    "\n",
    "def planck(wavenumber, T):\n",
    "    return 2*h*(c**2)*((wavenumber*100)**3)/(np.exp(h*c*(wavenumber*100)/(k*T))-1)\n",
    "\n",
    "\n",
    "\n",
    "T_s = 220\n",
    "nu = 400\n",
    "BTs = planck(nu, T_s) #planck value at T_s and nu\n",
    "\n",
    "\"\"\"assume\"\"\"\n",
    "sigma_nu = 1 #cm^-1\n",
    "sigma_Ts = 1 #degrees Celcius"
   ]
  },
  {
   "cell_type": "code",
   "execution_count": 95,
   "metadata": {},
   "outputs": [],
   "source": [
    "eqn_1 = 2*h*(c**2)*(nu**3)      #(1*)\n",
    "z = (h*c*nu)/(k*T_s)            #exponential in (2*)\n",
    "eqn_2 = (np.exp(z)-1)**(-1)     #(2*)"
   ]
  },
  {
   "cell_type": "code",
   "execution_count": 96,
   "metadata": {},
   "outputs": [],
   "source": [
    "sigma_1 = 6*h*(c**2)*(nu**2)*sigma_nu                                  #std dev in eqn_1\n",
    "\n",
    "sigma_z = z * np.sqrt((sigma_nu/nu)**2 + (sigma_Ts/T_s)**2)            #std dev in z\n",
    "sigma_2 = np.exp(z) * (np.exp(z) - 1)**(-2) * sigma_z                  #std dev in eqn_2\n",
    "\n",
    "sigma_BTs = BTs * np.sqrt((sigma_1/ eqn_1)**2 + (sigma_2/ eqn_2)**2)   #std dev in B(T_s)"
   ]
  },
  {
   "cell_type": "code",
   "execution_count": 97,
   "metadata": {},
   "outputs": [
    {
     "name": "stdout",
     "output_type": "stream",
     "text": [
      "5.509440325538794e-06\n",
      "0.0006015853659095624\n",
      "0.009158202040385139\n"
     ]
    }
   ],
   "source": [
    "print(sigma_BTs)\n",
    "print(BTs)\n",
    "\n",
    "print(sigma_BTs / BTs)"
   ]
  },
  {
   "cell_type": "code",
   "execution_count": null,
   "metadata": {},
   "outputs": [],
   "source": []
  },
  {
   "cell_type": "code",
   "execution_count": null,
   "metadata": {},
   "outputs": [],
   "source": []
  },
  {
   "cell_type": "markdown",
   "metadata": {},
   "source": [
    "3d plot of B against nu and T_s for appropriate nu, T_s ranges        (error in B(Ts) instead?)"
   ]
  }
 ],
 "metadata": {
  "kernelspec": {
   "display_name": "Python 3",
   "language": "python",
   "name": "python3"
  },
  "language_info": {
   "codemirror_mode": {
    "name": "ipython",
    "version": 3
   },
   "file_extension": ".py",
   "mimetype": "text/x-python",
   "name": "python",
   "nbconvert_exporter": "python",
   "pygments_lexer": "ipython3",
   "version": "3.7.0"
  }
 },
 "nbformat": 4,
 "nbformat_minor": 2
}
