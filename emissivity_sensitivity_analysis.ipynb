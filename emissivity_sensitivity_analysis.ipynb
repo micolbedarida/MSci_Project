{
 "cells": [
  {
   "cell_type": "code",
   "execution_count": 1,
   "metadata": {
    "collapsed": true
   },
   "outputs": [],
   "source": [
    "import numpy as np\n",
    "import matplotlib.pyplot as plt"
   ]
  },
  {
   "cell_type": "markdown",
   "metadata": {},
   "source": [
    "$\\epsilon_s \\approx 0.96-0.99$ for snow $\\implies$ want $\\epsilon_s$ to within $0.01$.\n",
    "\n",
    "\n",
    "$\\Large{ \\epsilon_s = \\frac{L^{\\uparrow}_{det} - \\tau^2 L^{\\downarrow}_{det} - (1-\\tau)B_{atm}}{\\tau B_{surf} - \\tau^2L^{\\downarrow}_{det}}} \\equiv \\frac{(N)}{(D)}$,\n",
    "\n",
    ">where\n",
    "\n",
    ">$\\large{B(T)= \\frac{2hc^2 \\nu^3}{exp\\left(\\frac{hc\\nu}{k_B T}\\right) -1}} \\equiv \\frac{(1*)}{(2*)}$\n",
    "\n"
   ]
  },
  {
   "cell_type": "code",
   "execution_count": 2,
   "metadata": {
    "collapsed": true
   },
   "outputs": [],
   "source": [
    "# estimate std on B by propagating uncertainty on temperatures\n",
    "\n",
    "h = 6.626e-34\n",
    "c = 3.0e+8\n",
    "k = 1.381e-23\n",
    "\n",
    "\n",
    "def B(nu, T, s_T):\n",
    "    \"\"\"\n",
    "    Calculate uncertainty for a given BB radiance at some wavenumber and temperature\n",
    "    Input: nu (wavenumber units: cm^{-1}), and temperature T (units: Kelvin) - (Integers or Floats)\n",
    "    Output: spectral radiance uncertainty (units: W m^{-2} sr^{-1} cm^{-1}) - (Float)\n",
    "    \"\"\"\n",
    "    planck_a = 2*h*(c**2)\n",
    "    planck_e = h*c/k\n",
    "    B = 100*planck_a*((nu*100)**3)/(np.exp(planck_e*(nu*100)/T)-1)   \n",
    "\n",
    "    eqn_1 = 2*h*(c**2)*(nu**3)  #(1*)\n",
    "    z = (h*c*nu)/(k*T)          #exponential in (2*)\n",
    "    eqn_2 = (np.exp(z)-1)**(-1) #(2*)\n",
    "\n",
    "    s_1 = 6*h*(c**2)*(nu**2)*s_nu                           #std dev in eqn_1\n",
    "\n",
    "    s_z = z * np.sqrt((s_nu/nu)**2 + (s_T/T)**2)            #std dev in z\n",
    "    s_2 = np.exp(z) * (np.exp(z) - 1)**(-2) * s_z           #std dev in eqn_2\n",
    "\n",
    "    s_B = B * np.sqrt((s_1/ eqn_1)**2 + (s_2/ eqn_2)**2)    #std dev in B(T_s)\n",
    "    \n",
    "    return B, s_B"
   ]
  },
  {
   "cell_type": "code",
   "execution_count": 3,
   "metadata": {
    "collapsed": true
   },
   "outputs": [],
   "source": [
    "# denote sigma by s in front of variable name"
   ]
  },
  {
   "cell_type": "code",
   "execution_count": 4,
   "metadata": {
    "collapsed": true
   },
   "outputs": [],
   "source": [
    "nu = 450 # start by doing it for one wavenumber - later can vecotrise over many wavenumbers\n",
    "s_nu = 0.5 #uncertainty on wavenumber\n",
    "\n",
    "# Propagate uncertainties on temperatures (in Kelvin) to find uncertainties on BB emissions\n",
    "\n",
    "T_atm = 280\n",
    "s_T_atm = .1\n",
    "\n",
    "T_surf = 270\n",
    "s_T_surf = 1\n",
    "\n",
    "B_atm, s_B_atm = B(nu, T_atm, s_T_atm)\n",
    "B_surf, s_B_surf = B(nu, T_surf, s_T_surf)\n",
    "\n",
    "tau = .98 # Laura can give us better estimate as function of wavenumber\n",
    "s_tau = .05\n",
    "\n",
    "L_up = 0.09 # can assume B_up B-inst = B_up*tau+(1-tau)*B_atm\n",
    "s_L_up = 0.05/100 * L_up #response function varies by approx 0.05 % within time it takes to make a measurement\n",
    "#see Jons estimate for NESR, use realistic range of error and see effect it has\n",
    "\n",
    "L_down = .1 #for nu=450\n",
    "s_L_down = 0.05/100 * L_down #response function varies by approx 0.05 % within time it takes to make a measurement"
   ]
  },
  {
   "cell_type": "code",
   "execution_count": 5,
   "metadata": {
    "collapsed": true
   },
   "outputs": [],
   "source": [
    "# Estimate downwelling radiation and uncertainty"
   ]
  },
  {
   "cell_type": "markdown",
   "metadata": {},
   "source": [
    "<img src=\"files/downwelling_radiance_alaska.jpg\">"
   ]
  },
  {
   "cell_type": "code",
   "execution_count": 6,
   "metadata": {},
   "outputs": [
    {
     "name": "stdout",
     "output_type": "stream",
     "text": [
      "emissivity = -0.814826763354\n",
      "uncertainty emissivity = -1.42074765694\n"
     ]
    }
   ],
   "source": [
    "N = L_up - (tau**2)*L_down - (1-tau)*B_atm\n",
    "D = tau*B_surf - (tau**2)*L_down\n",
    "\n",
    "emissivity = N/D\n",
    "\n",
    "sN1 = s_L_up**2\n",
    "sN2 = (tau**4)*(L_down**2)*(4*(s_tau/tau)**2+(s_L_down/L_down)**2)\n",
    "sN3 = s_B_atm**2\n",
    "sN4 = (tau**2)*(B_atm**2)*((s_tau/tau)**2+(s_B_atm/B_atm)**2)\n",
    "\n",
    "s_N = (sN1+sN2+sN3+sN4)**0.5\n",
    "\n",
    "sD1 = (tau**2)*(B_surf**2)*((s_tau/tau)**2+(s_B_surf/B_surf)**2)\n",
    "sD2 = (tau**4)*(L_down**2)*(4*(s_tau/tau)**2+(s_L_down/L_down)**2)\n",
    "\n",
    "s_D = (sD1+sD2)**0.5\n",
    "\n",
    "s_emissivity = emissivity*((s_N/N)**2+(s_D/D)**2)**0.5\n",
    "\n",
    "print('emissivity = ' + str(emissivity))\n",
    "print('uncertainty emissivity = ' + str(s_emissivity))"
   ]
  },
  {
   "cell_type": "code",
   "execution_count": 7,
   "metadata": {},
   "outputs": [],
   "source": [
    "L_up_array = np.arange(0.07,0.11,0.01)\n",
    "emissivities = []\n",
    "s_emissivities = []\n",
    "\n",
    "L_down_array = np.arange(0.002,0.14,0.002)\n",
    "\n",
    "\n",
    "for L_down in L_down_array:\n",
    "    N = L_up - (tau**2)*L_down - (1-tau)*B_atm\n",
    "    D = tau*B_surf - (tau**2)*L_down\n",
    "\n",
    "    emissivity = N/D\n",
    "    \n",
    "    sN1 = s_L_up**2\n",
    "    sN2 = (tau**4)*(L_down**2)*(4*(s_tau/tau)**2+(s_L_down/L_down)**2)\n",
    "    sN3 = s_B_atm**2\n",
    "    sN4 = (tau**2)*(B_atm**2)*((s_tau/tau)**2+(s_B_atm/B_atm)**2)\n",
    "\n",
    "    s_N = (sN1+sN2+sN3+sN4)**0.5\n",
    "    \n",
    "    sD1 = (tau**2)*(B_surf**2)*((s_tau/tau)**2+(s_B_surf/B_surf)**2)\n",
    "    sD2 = (tau**4)*(L_down**2)*(4*(s_tau/tau)**2+(s_L_down/L_down)**2)\n",
    "\n",
    "    s_D = (sD1+sD2)**0.5\n",
    "    \n",
    "    s_emissivity = emissivity*((s_N/N)**2+(s_D/D)**2)**0.5\n",
    "    \n",
    "    emissivities.append(emissivity)\n",
    "    s_emissivities.append(s_emissivity)"
   ]
  },
  {
   "cell_type": "code",
   "execution_count": 8,
   "metadata": {},
   "outputs": [
    {
     "data": {
      "image/png": "[encoded data removed]",
      "text/plain": [
       "<matplotlib.figure.Figure at 0x112ad89b0>"
      ]
     },
     "metadata": {},
     "output_type": "display_data"
    }
   ],
   "source": [
    "plt.scatter(L_down_array,emissivities)\n",
    "plt.title('Sensitivity of emissivity to L$\\downarrow$')\n",
    "plt.xlabel('L$\\downarrow$ ($W m^{-2} sr^{-1} (cm^{-1})^{-1}$)')\n",
    "plt.ylabel('Emissivity')\n",
    "plt.xlim((0.069,0.14))\n",
    "plt.show()"
   ]
  },
  {
   "cell_type": "code",
   "execution_count": null,
   "metadata": {
    "collapsed": true
   },
   "outputs": [],
   "source": [
    "# problem is values are not independent of each other. If dowwelling changes, other parameters such as temperature also need to change"
   ]
  },
  {
   "cell_type": "code",
   "execution_count": 9,
   "metadata": {},
   "outputs": [
    {
     "data": {
      "image/png": "[encoded data removed]",
      "text/plain": [
       "<matplotlib.figure.Figure at 0x115dc0e80>"
      ]
     },
     "metadata": {},
     "output_type": "display_data"
    }
   ],
   "source": [
    "plt.scatter(L_down_array,emissivities)\n",
    "plt.title('Sensitivity of emissivity to L$\\downarrow$')\n",
    "plt.xlabel('L$\\downarrow$ ($W m^{-2} sr^{-1} (cm^{-1})^{-1}$)')\n",
    "plt.ylabel('Emissivity')\n",
    "plt.ylim((0,1))\n",
    "#plt.xlim((0.065,0.095))\n",
    "plt.show()"
   ]
  },
  {
   "cell_type": "code",
   "execution_count": null,
   "metadata": {
    "collapsed": true
   },
   "outputs": [],
   "source": []
  }
 ],
 "metadata": {
  "kernelspec": {
   "display_name": "Python 3",
   "language": "python",
   "name": "python3"
  },
  "language_info": {
   "codemirror_mode": {
    "name": "ipython",
    "version": 3
   },
   "file_extension": ".py",
   "mimetype": "text/x-python",
   "name": "python",
   "nbconvert_exporter": "python",
   "pygments_lexer": "ipython3",
   "version": "3.6.3"
  }
 },
 "nbformat": 4,
 "nbformat_minor": 2
}
