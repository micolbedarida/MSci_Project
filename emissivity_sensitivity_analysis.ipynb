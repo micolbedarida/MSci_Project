{
 "cells": [
  {
   "cell_type": "markdown",
   "metadata": {},
   "source": [
    "$\\epsilon_s \\approx 0.96-0.99$ for snow $\\implies$ want $\\epsilon_s$ to within $0.01$.\n",
    "\n",
    "\n",
    "$\\Large{ \\epsilon_s = \\frac{L^{\\uparrow}_{det} + \\tau^2 L^{\\downarrow}_{det} + (1-\\tau)B_{atm}}{\\tau B_{surf} - \\tau^2L^{\\downarrow}_{det}}} \\equiv \\frac{(N)}{(D)}$,\n",
    "\n",
    ">where\n",
    "\n",
    ">$\\large{B(T)= \\frac{2hc^2 \\nu^3}{exp\\left(\\frac{hc\\nu}{k_B T}\\right) -1}} $\n",
    "\n"
   ]
  },
  {
   "cell_type": "code",
   "execution_count": 1,
   "metadata": {
    "collapsed": true
   },
   "outputs": [],
   "source": [
    "# denote sigma by s in front of variable name"
   ]
  },
  {
   "cell_type": "code",
   "execution_count": 2,
   "metadata": {
    "collapsed": true
   },
   "outputs": [],
   "source": [
    "L_up = 1\n",
    "s_L_up = .1\n",
    "\n",
    "L_down = 1\n",
    "s_L_down = .1\n",
    "\n",
    "tau = .9\n",
    "s_tau = .05\n",
    "\n",
    "'''\n",
    "T_atm =\n",
    "s_T_atm = \n",
    "\n",
    "T_surf = \n",
    "s_T_surf =\n",
    "'''\n",
    "\n",
    "emissivity = .98"
   ]
  },
  {
   "cell_type": "code",
   "execution_count": 3,
   "metadata": {
    "collapsed": true
   },
   "outputs": [],
   "source": [
    "B_atm = 10\n",
    "s_B_atm = 0.5\n",
    "\n",
    "B_surf = 12\n",
    "s_B_surf = 0.6"
   ]
  },
  {
   "cell_type": "code",
   "execution_count": 4,
   "metadata": {
    "collapsed": true
   },
   "outputs": [],
   "source": [
    "N = L_up + (tau**2)*L_down + (1-tau)*B_atm\n",
    "\n",
    "sN1 = s_L_up**2\n",
    "sN2 = (tau**4)*(L_down**2)*(2*(s_tau/tau)**2+(s_L_down/L_down)**2)\n",
    "sN3 = s_B_atm**2\n",
    "sN4 = (tau**2)*(B_atm**2)*((s_tau/tau)**2+(s_B_atm/B_atm)**2)\n",
    "\n",
    "s_N = (sN1+sN2+sN3+sN4)*0.5"
   ]
  },
  {
   "cell_type": "code",
   "execution_count": 5,
   "metadata": {
    "collapsed": true
   },
   "outputs": [],
   "source": [
    "D = tau*B_surf - (tau**2)*L_down\n",
    "\n",
    "sD1 = (tau**2)*(B_surf**2)*((s_tau/tau)**2+(s_B_surf/B_surf)**2)\n",
    "sD2 = (tau**4)*(L_down**2)*(2*(s_tau/tau)**2+(s_L_down/L_down)**2)\n",
    "\n",
    "s_D = (sD1+sD2)*0.5"
   ]
  },
  {
   "cell_type": "code",
   "execution_count": 6,
   "metadata": {
    "collapsed": true
   },
   "outputs": [],
   "source": [
    "s_emissivity = emissivity*((s_N/N)**2+(s_D/D)**2)**0.5"
   ]
  },
  {
   "cell_type": "code",
   "execution_count": 7,
   "metadata": {},
   "outputs": [
    {
     "data": {
      "text/plain": [
       "0.13021030269848205"
      ]
     },
     "execution_count": 7,
     "metadata": {},
     "output_type": "execute_result"
    }
   ],
   "source": [
    "s_emissivity"
   ]
  },
  {
   "cell_type": "code",
   "execution_count": null,
   "metadata": {
    "collapsed": true
   },
   "outputs": [],
   "source": []
  }
 ],
 "metadata": {
  "kernelspec": {
   "display_name": "Python 3",
   "language": "python",
   "name": "python3"
  },
  "language_info": {
   "codemirror_mode": {
    "name": "ipython",
    "version": 3
   },
   "file_extension": ".py",
   "mimetype": "text/x-python",
   "name": "python",
   "nbconvert_exporter": "python",
   "pygments_lexer": "ipython3",
   "version": "3.6.3"
  }
 },
 "nbformat": 4,
 "nbformat_minor": 2
}
