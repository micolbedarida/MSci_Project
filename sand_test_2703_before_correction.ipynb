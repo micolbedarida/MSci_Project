{
 "cells": [
  {
   "cell_type": "code",
   "execution_count": 1,
   "metadata": {
    "collapsed": true
   },
   "outputs": [],
   "source": [
    "\"\"\"\n",
    "Script extracting wavenumbers, temperature, hot/cold status from temperature '.log' and raw spectra '.txt' files\n",
    "\"\"\"\n",
    "import matplotlib.pyplot as plt\n",
    "import numpy as np\n",
    "import os\n",
    "import datetime\n",
    "import math as m\n",
    "import pandas as pd\n",
    "import glob\n",
    "from mpl_toolkits.mplot3d import Axes3D\n",
    "import matplotlib.cm as cm\n",
    "import itertools\n",
    "from scipy import interpolate\n",
    " \n",
    "import csv"
   ]
  },
  {
   "cell_type": "code",
   "execution_count": 2,
   "metadata": {
    "collapsed": true
   },
   "outputs": [],
   "source": [
    "# VARIABLES\n",
    "\n",
    "file_name = 'IC_raw_spectra_(2019_02_25_'\n",
    "\n",
    "#path_raw = 'H:/MSci Project/sand_outside' \n",
    "path_raw = '/Users/micol/Documents/Imperial/Year4/Master_Project/sand_outside' #path containing all raw spectra\n",
    "file_path_tau = path_raw + \"/Laura_simulations\""
   ]
  },
  {
   "cell_type": "code",
   "execution_count": 3,
   "metadata": {
    "collapsed": true
   },
   "outputs": [],
   "source": [
    "#FUNCTIONS\n",
    "\n",
    "def read_file(directory, filename, separator, rowstoskip, head='infer'):\n",
    "    \"\"\"\n",
    "    Reads an external file and outputs it as a Pandas Dataframe\n",
    "    Input: Directory, Filename (Strings)\n",
    "    Output: Pandas Dataframe\n",
    "    \"\"\"\n",
    "    path=os.path.join(directory, filename)\n",
    "    dataset = pd.read_csv(path, header = head, sep=separator, skiprows=rowstoskip)\n",
    "    \n",
    "    return dataset\n",
    "\n",
    "\n",
    "def planck(wavenumber, temperature): # T in Kelvin, wavenumber in cm^-1\n",
    "    \"\"\"\n",
    "    Calculates spectral radiance of a black body at some wavenumber and temperature\n",
    "    Input: wavenumber (units: cm^{-1}), and temperature T (units: Kelvin) - (Integers or Floats)\n",
    "    Output: spectral radiance (units: W m^{-2} sr^{-1} cm^{-1}) - (Float)\n",
    "    \"\"\"\n",
    "    h = 6.626e-34\n",
    "    c = 3.0e+8\n",
    "    k = 1.381e-23\n",
    "\n",
    "    planck_a = 2*h*(c**2)\n",
    "    planck_e = h*c/k\n",
    "    radiance = 100*planck_a*((wavenumber*100)**3)/(np.exp(planck_e*(wavenumber*100)/temperature)-1)\n",
    "\n",
    "    return radiance\n",
    "\n",
    "\n",
    "def read_raw_spectra(directory, filename):\n",
    "    \"\"\"\n",
    "    Reads spectrum file and calculates the average of the 4 spectra\n",
    "    Input: Directory, Filename (Strings)\n",
    "    Output: average_spectrum (NumPy Array)\n",
    "    \"\"\"\n",
    "    file_data = read_file(path_raw, filename, separator='  ', rowstoskip=5, head=None)\n",
    "    spectrum1 = file_data[1].values\n",
    "    spectrum2 = file_data[2].values\n",
    "    spectrum3 = file_data[3].values\n",
    "    spectrum4 = file_data[4].values\n",
    "    \n",
    "    return spectrum1,spectrum2,spectrum3,spectrum4"
   ]
  },
  {
   "cell_type": "code",
   "execution_count": 4,
   "metadata": {
    "collapsed": true
   },
   "outputs": [],
   "source": [
    "def inv_resp_function(hbb_spectrum, cbb_spectrum):\n",
    "    \n",
    "    V_diff = np.array(hbb_spectrum)-np.array(cbb_spectrum)\n",
    "    \n",
    "    temp_average_h = times_temps.at[hbb_index,'HBB_temp']\n",
    "    temp_average_c = times_temps.at[cbb_index,'CBB_temp']\n",
    "\n",
    "    radiances_avg_h = [planck(wn, float(temp_average_h)+273.15) for wn in wavenums_cut]\n",
    "    radiances_avg_c = [planck(wn, float(temp_average_c)+273.15) for wn in wavenums_cut]\n",
    "    rad_diff = np.array(radiances_avg_h) - np.array(radiances_avg_c)\n",
    "\n",
    "    def division(raw_val,planck_val):\n",
    "        if raw_val == 0:\n",
    "            div = 0\n",
    "        else:\n",
    "            div = raw_val/planck_val\n",
    "        return div\n",
    "\n",
    "    division_vec = np.vectorize(division)\n",
    "    ratio = division_vec(V_diff, rad_diff)\n",
    "\n",
    "    return(ratio)\n",
    "\n",
    "\n",
    "def plot_planck(t, wns):\n",
    "    radiances = []\n",
    "    for w in wns:\n",
    "        radiances.append(planck(w, t+273.15))\n",
    "    return radiances"
   ]
  },
  {
   "cell_type": "code",
   "execution_count": 5,
   "metadata": {
    "collapsed": true
   },
   "outputs": [],
   "source": [
    "#create list of file paths starting with file_name from 'path_raw' directory\n",
    "measurements = len(glob.glob(path_raw + '/'+ file_name + '*')) #filepaths of all 'IC_raw_spectra' files\n",
    "m_numbers = list(range(measurements)) #list of file name endings (integers)\n",
    "\n",
    "for i in m_numbers:\n",
    "    #checks that files have associated temperature measurements, and removes the files if not\n",
    "    temp_check = read_file(path_raw, file_name + '{0:03}'.format(i) + '.txt', separator=',', rowstoskip=None, head=None).iloc[1,0]\n",
    "    temp_check_float = float(temp_check.split()[0])\n",
    "    if temp_check_float == 0.0:\n",
    "        m_numbers.pop(i)\n",
    "\n",
    "files = [file_name + '{0:03}'.format(num) + '.txt' for num in m_numbers][:-2] #final list of strings of file names, in order"
   ]
  },
  {
   "cell_type": "code",
   "execution_count": 6,
   "metadata": {
    "collapsed": true
   },
   "outputs": [],
   "source": [
    "columns_ = ['RT0','RT1','RT2','Dummy','RT3','RT4','HBB_temp','CBB_temp','Time', 'Orientation'] #columns for Pandas DataFrame\n",
    "\n",
    "read_temps = []\n",
    "\n",
    "for i in np.arange(0,len(files)):\n",
    "    #Go through files and retrieve temperatures and orientations of spectra\n",
    "    read_temps.append( read_file(path_raw, files[i], separator=',', rowstoskip=None, head=None).iloc[1:5,0].str.split() )\n",
    "    read_temps_flat = list(itertools.chain(*read_temps)) #flatten read_temps_i\n",
    "\n",
    "times_temps = pd.DataFrame(read_temps_flat, columns = columns_)"
   ]
  },
  {
   "cell_type": "code",
   "execution_count": 7,
   "metadata": {},
   "outputs": [
    {
     "name": "stderr",
     "output_type": "stream",
     "text": [
      "/Users/micol/anaconda3/lib/python3.6/site-packages/ipykernel_launcher.py:10: ParserWarning: Falling back to the 'python' engine because the 'c' engine does not support regex separators (separators > 1 char and different from '\\s+' are interpreted as regex); you can avoid this warning by specifying engine='python'.\n",
      "  # Remove the CWD from sys.path while we load stuff.\n"
     ]
    }
   ],
   "source": [
    "wavenums = read_file(path_raw, files[0], separator='  ', rowstoskip=5, head=None)[0].values"
   ]
  },
  {
   "cell_type": "code",
   "execution_count": 8,
   "metadata": {
    "collapsed": true
   },
   "outputs": [],
   "source": [
    "# choose files that are taken around one of Laura's transmissions\n",
    "\n",
    "transmission_filenames = ['2239_2799','2041_3211', '2103_3063', '2096_2922', '2046_3048'] #\n",
    "hbb_indeces = [343, 432, 528, 624, 720] #\n",
    "cbb_indeces = [344, 440, 519, 615, 711] #\n",
    "sky_indeces = [352, 431, 503, 599, 736] #\n",
    "surface_indeces = [335, 448, 525, 619, 712] #\n",
    "atm_temp = [22.39, 20.41, 21.03, 20.96, 20.46] #\n",
    "surf_temp = [19.2, 18.1, 17.3, 17.1, 16.8] #\n",
    "times = ['13:48', '14:27', '15:07', '15:48', '16:28']"
   ]
  },
  {
   "cell_type": "code",
   "execution_count": 33,
   "metadata": {
    "scrolled": false
   },
   "outputs": [
    {
     "name": "stderr",
     "output_type": "stream",
     "text": [
      "/Users/micol/anaconda3/lib/python3.6/site-packages/ipykernel_launcher.py:10: ParserWarning: Falling back to the 'python' engine because the 'c' engine does not support regex separators (separators > 1 char and different from '\\s+' are interpreted as regex); you can avoid this warning by specifying engine='python'.\n",
      "  # Remove the CWD from sys.path while we load stuff.\n"
     ]
    },
    {
     "data": {
      "image/png": "[encoded data removed]",
      "text/plain": [
       "<matplotlib.figure.Figure at 0x10f16ae80>"
      ]
     },
     "metadata": {},
     "output_type": "display_data"
    }
   ],
   "source": [
    "wavenums_cut = [wn for wn in wavenums if wn>400]\n",
    "wavenums_min_ind = [i for i,x in enumerate(wavenums) if x >400][0]\n",
    "\n",
    "ems_400 = []\n",
    "wns_400 = []\n",
    "fig = plt.figure(figsize=(15,10))\n",
    "\n",
    "\n",
    "for (t_file, hbb_index, cbb_index, sky_index, surface_index, atm_t, surf_t) in zip(transmission_filenames, hbb_indeces, cbb_indeces, sky_indeces, surface_indeces, atm_temp, surf_temp):\n",
    "    \n",
    "    hbb_spectrum = read_raw_spectra(path_raw, files[int(np.floor(hbb_index/4))])[hbb_index%4][wavenums_min_ind:]\n",
    "    cbb_spectrum = read_raw_spectra(path_raw, files[int(np.floor(cbb_index/4))])[cbb_index%4][wavenums_min_ind:]\n",
    "    response = inv_resp_function(hbb_spectrum, cbb_spectrum)\n",
    "    \n",
    "    temp_average_h = times_temps.at[hbb_index,'HBB_temp']\n",
    "    radiances_avg_h = np.array([planck(wn, float(temp_average_h)+273.15) for wn in wavenums_cut])\n",
    "\n",
    "    sky = read_raw_spectra(path_raw, files[int(np.floor(sky_index/4))])[sky_index%4][wavenums_min_ind:]\n",
    "    surf = read_raw_spectra(path_raw, files[int(np.floor(surface_index/4))])[surface_index%4][wavenums_min_ind:]\n",
    "\n",
    "    sky_rad = np.divide((sky-hbb_spectrum), response) + radiances_avg_h\n",
    "    surf_rad = np.divide((surf-hbb_spectrum), response) + radiances_avg_h\n",
    "\n",
    "    tau_wn= []\n",
    "    taus_rtm = []\n",
    "    trans_file = np.loadtxt(file_path_tau + '/' + t_file +'.txt')\n",
    "    for i in np.arange(trans_file.shape[0]):\n",
    "        tau_wn.append(trans_file[i][0])\n",
    "        taus_rtm.append(trans_file[i][1])\n",
    "    f_trans = interpolate.interp1d(tau_wn, taus_rtm)\n",
    "    \n",
    "    downs = []\n",
    "    ups = []\n",
    "    taus = []\n",
    "    wns =[]\n",
    "    for i in range(len(wavenums_cut)):\n",
    "        if f_trans(wavenums_cut[i]) >0.9:\n",
    "            taus.append(f_trans(wavenums_cut[i]))\n",
    "            wns.append(wavenums_cut[i])\n",
    "            downs.append(sky_rad[i])\n",
    "            ups.append(surf_rad[i])\n",
    "    wns_400.append(wns)\n",
    "    \n",
    "    BBatm = plot_planck(atm_t, wns)\n",
    "    BBsurf = plot_planck(surf_t, wns)\n",
    "    \n",
    "    N1 = np.array(ups)\n",
    "    N2 = np.array([t**2*d for t, d in zip(taus, downs)])\n",
    "    N3 = np.array([(1-t**2)*b for t, b in zip(taus, BBatm)])\n",
    "\n",
    "    N = N1-N2-N3\n",
    "\n",
    "    D1 = np.array([t*b for t, b in zip(taus, BBsurf)])\n",
    "    D2 = np.array([t**2*d for t, d in zip(taus, downs)])\n",
    "    D3 = np.array([t*(1-t)*b for t, b in zip(taus, BBatm)])\n",
    "\n",
    "    D = D1-D2-D3\n",
    "\n",
    "    ems_400.append(N/D)\n",
    "    #plt.plot([min(wns), max(wns)], [1,1], 'k--')\n",
    "    plt.scatter(wns, N/D, s=1)\n",
    "    plt.xlabel('Wavenumber (cm$^{-1}$)', fontsize=20)\n",
    "    plt.ylabel('Emissivity', fontsize=20)\n",
    "    plt.ylim([-10,1])\n",
    "    #plt.xlim([400, 520])\n",
    "\n",
    "plt.legend(times, markerscale=4)  \n",
    "plt.grid()\n",
    "plt.show()"
   ]
  },
  {
   "cell_type": "code",
   "execution_count": 27,
   "metadata": {},
   "outputs": [],
   "source": [
    "with open(os.path.join(path_raw, 'ems_400.csv'), \"w\") as f:\n",
    "    writer = csv.writer(f, delimiter='\\t')\n",
    "    writer.writerows(zip(wns_400[0], ems_400[0], wns_400[1], ems_400[1], wns_400[2], ems_400[2], wns_400[3], ems_400[3], wns_400[4], ems_400[4]))"
   ]
  },
  {
   "cell_type": "markdown",
   "metadata": {},
   "source": [
    "TODO\n",
    "\n",
    "#Corrrect emissivity equation\n",
    "\n",
    "do with sand\n",
    "\n",
    "see how stable emissivity is over time\n",
    "\n",
    "if time, look at BB emissivity paper and incorporate that in our model. Take red line in figures 5,6 or interpolate between two \n",
    "\n",
    "see whether it has a big effect on emissivity - should see a jump around 1000 wavenums\n",
    "\n",
    "uncertainyt in atm temp - what does it do to emissivity\n",
    "uncertainty in transmittance - what does it do\n",
    "\n",
    "\n",
    "Maybe plot our emissivities on top of Newman values. Maybe with uncertainties we are in the range\n",
    "In the FIR look at FIR for sea water (maybe in supplementary materials). Emissivities went much lower? Difference is wiht salinity\n",
    "Newman in FIR has not much effect of salinity \n",
    "\n",
    "Report: characterise instrument, e values and error analysis, comparison to previous papers\n",
    "\n",
    "For errors:\n",
    "     in the code estimate uncertainty in surface temperature, and put it in code keeping everything else constant - see effects of varyinf surf temp and same for all other components in the formula."
   ]
  },
  {
   "cell_type": "code",
   "execution_count": 11,
   "metadata": {},
   "outputs": [
    {
     "data": {
      "text/plain": [
       "list"
      ]
     },
     "execution_count": 11,
     "metadata": {},
     "output_type": "execute_result"
    }
   ],
   "source": [
    "type(wns)"
   ]
  },
  {
   "cell_type": "code",
   "execution_count": 12,
   "metadata": {},
   "outputs": [
    {
     "data": {
      "text/plain": [
       "1157.5385000000001"
      ]
     },
     "execution_count": 12,
     "metadata": {},
     "output_type": "execute_result"
    }
   ],
   "source": [
    "wns[-1]"
   ]
  },
  {
   "cell_type": "code",
   "execution_count": null,
   "metadata": {
    "collapsed": true
   },
   "outputs": [],
   "source": []
  },
  {
   "cell_type": "code",
   "execution_count": null,
   "metadata": {
    "collapsed": true
   },
   "outputs": [],
   "source": []
  }
 ],
 "metadata": {
  "kernelspec": {
   "display_name": "Python 3",
   "language": "python",
   "name": "python3"
  },
  "language_info": {
   "codemirror_mode": {
    "name": "ipython",
    "version": 3
   },
   "file_extension": ".py",
   "mimetype": "text/x-python",
   "name": "python",
   "nbconvert_exporter": "python",
   "pygments_lexer": "ipython3",
   "version": "3.6.8"
  }
 },
 "nbformat": 4,
 "nbformat_minor": 2
}
