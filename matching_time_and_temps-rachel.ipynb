{
 "cells": [
  {
   "cell_type": "code",
   "execution_count": 1,
   "metadata": {},
   "outputs": [],
   "source": [
    "import matplotlib.pyplot as plt\n",
    "import numpy as np\n",
    "import math as m\n",
    "import os\n",
    "import datetime\n",
    "import pandas as pd"
   ]
  },
  {
   "cell_type": "code",
   "execution_count": 2,
   "metadata": {
    "scrolled": false
   },
   "outputs": [],
   "source": [
    "path_raw = '//icnas4.cc.ic.ac.uk/rs5115/MSci Project/raw_spectra' #path with raw spectra files\n",
    "path_logs = '//icnas4.cc.ic.ac.uk/rs5115/MSci Project/bruker_logs' #path with eventlog and temperatures\n",
    "\n",
    "temp_log = 'thursday2-20180927113645.log'\n",
    "event_log = 'EventLog_20180927112225.log'"
   ]
  },
  {
   "cell_type": "code",
   "execution_count": 24,
   "metadata": {},
   "outputs": [],
   "source": [
    "h = 6.626e-34\n",
    "c = 299792458\n",
    "k = 1.381e-23\n",
    "\n",
    "a = 2*h*(c**2)\n",
    "e = h*c/k\n",
    "\n",
    "def planck(wavenumber, T): # T in Kelvin\n",
    "    return 100*a*(wavenumber**3)/(m.exp(e*wavenumber/T)-1)"
   ]
  },
  {
   "cell_type": "code",
   "execution_count": 25,
   "metadata": {},
   "outputs": [],
   "source": [
    "#RACHEL"
   ]
  },
  {
   "cell_type": "code",
   "execution_count": 26,
   "metadata": {},
   "outputs": [],
   "source": [
    "def read_wavenumbers(directory, filename):\n",
    "    lines = open(os.path.join(directory, filename)).readlines() #finds all lines in file as string elements in \"lines\" list\n",
    "\n",
    "    wns = []\n",
    "    for i in lines[5:]:\n",
    "        line = i.split()\n",
    "        split_lines = [float(a) for a in line]\n",
    "        wns.append(split_lines[0])\n",
    "\n",
    "    return wns\n",
    "\n",
    "raw_wavenumbers = read_wavenumbers(path_raw, files_list[0])"
   ]
  },
  {
   "cell_type": "code",
   "execution_count": 27,
   "metadata": {},
   "outputs": [],
   "source": [
    "def read_all_raw_spectra(directory, filename):\n",
    "    lines = open(os.path.join(directory, filename)).readlines() #finds all lines in file as string elements in \"lines\" list\n",
    "\n",
    "    sp1 = []\n",
    "    sp2 = []\n",
    "    sp3 = []\n",
    "    sp4 = []\n",
    "    \n",
    "    for i in lines[5:]:\n",
    "        line = i.split()\n",
    "        split_lines = [float(a) for a in line]\n",
    "        sp1.append(split_lines[1])\n",
    "        sp2.append(split_lines[2])\n",
    "        sp3.append(split_lines[3])\n",
    "        sp4.append(split_lines[4])\n",
    "    \n",
    "    avg_4_spec = 0.25*(np.array(sp1) + np.array(sp2) + np.array(sp3) + np.array(sp4))\n",
    "    \n",
    "    return avg_4_spec #, sp1, sp2, sp3, sp4"
   ]
  },
  {
   "cell_type": "code",
   "execution_count": 28,
   "metadata": {},
   "outputs": [],
   "source": [
    "average_4_spectra = []        #a list with 352 elements, each of which is a list of 4 spectra, which is a list of 8000 points each\n",
    "for f in range(len(files_list)-2):\n",
    "    average_4_spectra.append(read_all_raw_spectra(path_raw, files_list[f]))"
   ]
  },
  {
   "cell_type": "code",
   "execution_count": 29,
   "metadata": {},
   "outputs": [
    {
     "ename": "NameError",
     "evalue": "name 'final_frame_4' is not defined",
     "output_type": "error",
     "traceback": [
      "\u001b[1;31m---------------------------------------------------------------------------\u001b[0m",
      "\u001b[1;31mNameError\u001b[0m                                 Traceback (most recent call last)",
      "\u001b[1;32m<ipython-input-29-b4083f19895b>\u001b[0m in \u001b[0;36m<module>\u001b[1;34m()\u001b[0m\n\u001b[0;32m      3\u001b[0m \u001b[1;33m\u001b[0m\u001b[0m\n\u001b[0;32m      4\u001b[0m \u001b[1;32mfor\u001b[0m \u001b[0mspectrum\u001b[0m \u001b[1;32min\u001b[0m \u001b[0mspectra_indices\u001b[0m\u001b[1;33m:\u001b[0m       \u001b[1;31m#plot planck curve at some temperature\u001b[0m\u001b[1;33m\u001b[0m\u001b[0m\n\u001b[1;32m----> 5\u001b[1;33m     \u001b[0mtemp_avg\u001b[0m \u001b[1;33m=\u001b[0m \u001b[0mfinal_frame_4\u001b[0m\u001b[1;33m.\u001b[0m\u001b[0mat\u001b[0m\u001b[1;33m[\u001b[0m\u001b[0mspectrum\u001b[0m\u001b[1;33m,\u001b[0m\u001b[1;34m'temp_avg'\u001b[0m\u001b[1;33m]\u001b[0m\u001b[1;33m\u001b[0m\u001b[0m\n\u001b[0m\u001b[0;32m      6\u001b[0m     \u001b[0mstd\u001b[0m \u001b[1;33m=\u001b[0m \u001b[0mfinal_frame_4\u001b[0m\u001b[1;33m.\u001b[0m\u001b[0mat\u001b[0m\u001b[1;33m[\u001b[0m\u001b[0mspectrum\u001b[0m\u001b[1;33m,\u001b[0m \u001b[1;34m'temp_std'\u001b[0m\u001b[1;33m]\u001b[0m\u001b[1;33m\u001b[0m\u001b[0m\n\u001b[0;32m      7\u001b[0m \u001b[1;33m\u001b[0m\u001b[0m\n",
      "\u001b[1;31mNameError\u001b[0m: name 'final_frame_4' is not defined"
     ]
    }
   ],
   "source": [
    "spectra_indices = [1,2,71,72,141,142,211,212,281,283,347,348]\n",
    "wavenums = np.array(raw_wavenumbers)\n",
    "\n",
    "for spectrum in spectra_indices:       #plot planck curve at some temperature\n",
    "    temp_avg = final_frame_4.at[spectrum,'temp_avg']\n",
    "    std = final_frame_4.at[spectrum, 'temp_std']\n",
    "\n",
    "    radiances_avg = []\n",
    "    rad_minus = []\n",
    "    rad_plus = []\n",
    "    \n",
    "    for wn in wavenums:\n",
    "        radiances_avg.append(planck(wn, temp_avg+273.15))\n",
    "        rad_minus.append(planck(wn, temp_avg+273.15-std))\n",
    "        rad_plus.append(planck(wn, temp_avg+273.15+std))\n",
    "\n",
    "    fig = plt.figure()\n",
    "    plt.plot(wavenums, radiances_avg) #might need to *100 once we have dataframe back\n",
    "    plt.plot(wavenums, rad_minus)\n",
    "    plt.plot(wavenums, rad_plus)\n",
    "\n",
    "    plt.title('Blackbody curve $\\pm$ standard deviation for index ' + str(spectrum))\n",
    "    plt.xlabel('wavenumber $cm^{-1}$')\n",
    "    plt.ylabel('radiance $W m^{-2} sr^{-1} (cm^{-1})^{-1}$')\n",
    "    plt.show()"
   ]
  },
  {
   "cell_type": "code",
   "execution_count": null,
   "metadata": {},
   "outputs": [],
   "source": []
  },
  {
   "cell_type": "code",
   "execution_count": null,
   "metadata": {},
   "outputs": [],
   "source": []
  },
  {
   "cell_type": "code",
   "execution_count": null,
   "metadata": {},
   "outputs": [],
   "source": [
    "#want only 2nd value of hots - averaging over 1min\n",
    "\n",
    "def transmission_fn(spectrum_number):        #function plotting transmisson of radiance (real/theoretical radiance)\n",
    "    wavenums = np.array(raw_wavenumbers)\n",
    "    \n",
    "    V_h = average_4_spectra[spectrum_number] #first spectrum - make average\n",
    "    V_c = average_4_spectra[spectrum_number + 1]\n",
    "    V_diff = np.array(V_h)-np.array(V_c)\n",
    "    \n",
    "    temp_average_h = final_frame_4.at[spectrum_number,'temp_avg']\n",
    "    #std_dev_h = final_frame_4.at[spectrum_number, 'temp_std']\n",
    "    temp_average_c = final_frame_4.at[spectrum_number+1,'temp_avg']\n",
    "    #std_dev_c = final_frame_4.at[spectrum_number+1, 'temp_std']\n",
    "    \n",
    "    radiances_avg_h = []\n",
    "    radiances_avg_c = []\n",
    "    #rad_minus_h = []\n",
    "    #rad_plus_h = []\n",
    "    \n",
    "    for wn in wavenums:\n",
    "        radiances_avg_h.append(planck(wn, temp_average_h+273.15))\n",
    "        radiances_avg_c.append(planck(wn, temp_average_c+273.15))\n",
    "        #rad_minus_h.append(planck(wn, temp_avg_h+273.15-std))\n",
    "        #rad_plus_h.append(planck(wn, temp_avg_h+273.15+std))\n",
    "    \n",
    "    rad_diff = np.array(radiances_avg_h) - np.array(radiances_avg_c)\n",
    "    \n",
    "    def division(raw_val,planck_val):\n",
    "        return raw_val/planck_val\n",
    "    \n",
    "    division_vec = np.vectorize(division)\n",
    "    \n",
    "    ratio = division_vec(V_diff, rad_diff)\n",
    "    fig = plt.figure()\n",
    "    plt.plot(wavenums, ratio)\n",
    "    plt.xlabel('wavenumber $cm^{-1}$')\n",
    "    plt.ylabel('response $(W m^{-2} sr^{-1} (cm^{-1})^{-1})^{-1}$ -- fix these units')\n",
    "    plt.show()"
   ]
  },
  {
   "cell_type": "code",
   "execution_count": null,
   "metadata": {},
   "outputs": [],
   "source": [
    "transmission_fn(3)\n",
    "transmission_fn(7)\n",
    "transmission_fn(327)"
   ]
  },
  {
   "cell_type": "code",
   "execution_count": null,
   "metadata": {},
   "outputs": [],
   "source": []
  }
 ],
 "metadata": {
  "kernelspec": {
   "display_name": "Python 3",
   "language": "python",
   "name": "python3"
  },
  "language_info": {
   "codemirror_mode": {
    "name": "ipython",
    "version": 3
   },
   "file_extension": ".py",
   "mimetype": "text/x-python",
   "name": "python",
   "nbconvert_exporter": "python",
   "pygments_lexer": "ipython3",
   "version": "3.7.0"
  }
 },
 "nbformat": 4,
 "nbformat_minor": 2
}
