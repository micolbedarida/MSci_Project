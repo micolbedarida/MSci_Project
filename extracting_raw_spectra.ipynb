{
 "cells": [
  {
   "cell_type": "code",
   "execution_count": 1,
   "metadata": {},
   "outputs": [],
   "source": [
    "import os\n",
    "import datetime\n",
    "import pandas as pd\n",
    "import numpy as np\n",
    "import re"
   ]
  },
  {
   "cell_type": "code",
   "execution_count": 2,
   "metadata": {},
   "outputs": [],
   "source": [
    "path_raw = '//icnas4.cc.ic.ac.uk/rs5115/MSci Project/raw_spectra' #path with raw spectra files"
   ]
  },
  {
   "cell_type": "code",
   "execution_count": 3,
   "metadata": {},
   "outputs": [],
   "source": [
    "file_array = []     #empty array to append filenames in original order (wrong order)\n",
    "all_the_files = np.array([i for i in os.listdir(path_raw) if os.path.isfile(os.path.join(path_raw,i)) and i.startswith('IC_raw_spectra_')]) #all files in directory starting with 'IC_raw_spectra'\n",
    "\n",
    "for f in all_the_files:\n",
    "    file_array.append(f.strip('IC_raw_spectra.tx'))      #stripping file names to get the number at the end\n",
    "\n",
    "file_integers = sorted([int(i) for i in file_array])     #number converted to sorted integers (not naturally done)\n",
    "\n",
    "\n",
    "all_files_list = []    #final file list, in order\n",
    "\n",
    "for num in file_integers: #add integer to string to make files_list\n",
    "    all_files_list.append('IC_raw_spectra_'+str(num)+'.txt')"
   ]
  },
  {
   "cell_type": "code",
   "execution_count": 4,
   "metadata": {},
   "outputs": [],
   "source": [
    "\"\"\"removing files without associated temperature measurement\"\"\"\n",
    "\n",
    "def read_temperatures_check(directory, filename):\n",
    "    lines = open(os.path.join(directory, filename)).readlines() #finds all lines in file as string elements in \"lines\" list\n",
    "    temp1 = [float(b) for b in (lines[1].split())[6:]]\n",
    "    tempHBB1 = temp1[0]\n",
    "\n",
    "    return tempHBB1"
   ]
  },
  {
   "cell_type": "code",
   "execution_count": 5,
   "metadata": {},
   "outputs": [],
   "source": [
    "delete_files = [] #files where there is no temperature measurement\n",
    "\n",
    "for f in all_files_list:\n",
    "    if read_temperatures_check(path_raw, f) == 0.0:\n",
    "        delete_files.append(f)\n",
    "\n",
    "files_list = [x for x in all_files_list if x not in delete_files]"
   ]
  },
  {
   "cell_type": "code",
   "execution_count": 6,
   "metadata": {},
   "outputs": [],
   "source": [
    "\"\"\"retrieving times from files\"\"\"\n",
    "\n",
    "def read_times(directory, filename):\n",
    "    lines = open(os.path.join(directory, filename)).readlines() #finds all lines in file as string elements in \"lines\" list\n",
    "    \n",
    "    times = lines[0].split() #retrieve times of beginning of all spectra in a file\n",
    "    return times"
   ]
  },
  {
   "cell_type": "code",
   "execution_count": 7,
   "metadata": {},
   "outputs": [],
   "source": [
    "all_times_list = [] #final time list [374x4] (in HH:MM:SS.microsec format)\n",
    "\n",
    "for f in range(len(files_list)): #go through files_list and extract times\n",
    "    all_times_list.append(read_times(path_raw, files_list[f]))\n",
    "\n",
    "flat_list = [item for sublist in all_times_list for item in sublist] #1D list of all times (in HH:MM:SS.microsec format)\n",
    "\n",
    "\n",
    "spectrum_times = [] #final time list [(374*4)x1] in seconds from midnight format\n",
    "\n",
    "for i in flat_list: #convert times to seconds format\n",
    "    time = datetime.datetime.strptime(i, '%H:%M:%S.%f')\n",
    "    spectrum_times.append((time.microsecond)/1000000 +time.second+time.minute*60+time.hour*3600)"
   ]
  },
  {
   "cell_type": "markdown",
   "metadata": {},
   "source": [
    "def read_raw_spectra(directory, filename):\n",
    "    lines = open(os.path.join(directory, filename)).readlines() #finds all lines in file as string elements in \"lines\" list\n",
    "    \n",
    "    times = lines[0].split()\n",
    "    wns = []\n",
    "    sp1 = []\n",
    "    sp2 = []\n",
    "    sp3 = []\n",
    "    sp4 = []\n",
    "    \n",
    "    temp1 = [float(b) for b in (lines[1].split())[6:]]\n",
    "    temp2 = [float(b) for b in (lines[2].split())[6:]]\n",
    "    temp3 = [float(b) for b in (lines[3].split())[6:]]\n",
    "    temp4 = [float(b) for b in (lines[4].split())[6:]]\n",
    "    \n",
    "    for i in lines[5:]:\n",
    "        line = i.split()\n",
    "        final = [float(a) for a in line]\n",
    "        \n",
    "        wns.append(final[0])\n",
    "        sp1.append(final[1])\n",
    "        sp2.append(final[2])\n",
    "        sp3.append(final[3])\n",
    "        sp4.append(final[4])\n",
    "\n",
    "    return times #wns, sp1, sp2, sp3, sp4, times, temp1, temp2, temp3, temp4"
   ]
  },
  {
   "cell_type": "code",
   "execution_count": null,
   "metadata": {},
   "outputs": [],
   "source": []
  }
 ],
 "metadata": {
  "kernelspec": {
   "display_name": "Python 3",
   "language": "python",
   "name": "python3"
  },
  "language_info": {
   "codemirror_mode": {
    "name": "ipython",
    "version": 3
   },
   "file_extension": ".py",
   "mimetype": "text/x-python",
   "name": "python",
   "nbconvert_exporter": "python",
   "pygments_lexer": "ipython3",
   "version": "3.6.6"
  }
 },
 "nbformat": 4,
 "nbformat_minor": 2
}
