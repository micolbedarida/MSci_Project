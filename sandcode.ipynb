{
 "cells": [
  {
   "cell_type": "code",
   "execution_count": 1,
   "metadata": {},
   "outputs": [],
   "source": [
    "\"\"\"\n",
    "Script extracting wavenumbers, temperature, hot/cold status from temperature '.log' and raw spectra '.txt' files\n",
    "\"\"\"\n",
    "\n",
    "import matplotlib.pyplot as plt\n",
    "import numpy as np\n",
    "import os\n",
    "import datetime\n",
    "import math as m\n",
    "import pandas as pd\n",
    "import glob\n",
    "from mpl_toolkits.mplot3d import Axes3D\n",
    "import matplotlib.cm as cm\n",
    "import itertools"
   ]
  },
  {
   "cell_type": "code",
   "execution_count": 2,
   "metadata": {},
   "outputs": [],
   "source": [
    "# VARIABLES\n",
    "file_name = 'IC_raw_spectra_(2019_02_25_'\n",
    "\n",
    "\"\"\"Sand\"\"\"\n",
    "path_raw = '//icnas4.cc.ic.ac.uk/rs5115/MSci Project/sand_outside' #path containing all raw spectra"
   ]
  },
  {
   "cell_type": "code",
   "execution_count": 3,
   "metadata": {},
   "outputs": [],
   "source": [
    "#FUNCTIONS\n",
    "\n",
    "def read_file(directory, filename, separator, rowstoskip, head='infer'):\n",
    "    \"\"\"\n",
    "    Reads an external file and outputs it as a Pandas Dataframe\n",
    "    Input: Directory, Filename (Strings)\n",
    "    Output: Pandas Dataframe\n",
    "    \"\"\"\n",
    "    path=os.path.join(directory, filename)\n",
    "    dataset = pd.read_csv(path, header = head, sep=separator, skiprows=rowstoskip)\n",
    "    \n",
    "    return dataset\n",
    "\n",
    "\n",
    "def planck(wavenumber, temperature): # T in Kelvin, wavenumber in cm^-1\n",
    "    \"\"\"\n",
    "    Calculates spectral radiance of a black body at some wavenumber and temperature\n",
    "    Input: wavenumber (units: cm^{-1}), and temperature T (units: Kelvin) - (Integers or Floats)\n",
    "    Output: spectral radiance (units: W m^{-2} sr^{-1} cm^{-1}) - (Float)\n",
    "    \"\"\"\n",
    "    h = 6.626e-34\n",
    "    c = 3.0e+8\n",
    "    k = 1.381e-23\n",
    "\n",
    "    planck_a = 2*h*(c**2)\n",
    "    planck_e = h*c/k\n",
    "    radiance = 100*planck_a*((wavenumber*100)**3)/(np.exp(planck_e*(wavenumber*100)/temperature)-1)\n",
    "\n",
    "    return radiance\n",
    "\n",
    "\n",
    "def read_raw_spectra(directory, filename):\n",
    "    \"\"\"\n",
    "    Reads spectrum file and calculates the average of the 4 spectra\n",
    "    Input: Directory, Filename (Strings)\n",
    "    Output: average_spectrum (NumPy Array)\n",
    "    \"\"\"\n",
    "    file_data = read_file(path_raw, filename, separator='  ', rowstoskip=5, head=None)\n",
    "    spectrum1 = file_data[1].values\n",
    "    spectrum2 = file_data[2].values\n",
    "    spectrum3 = file_data[3].values\n",
    "    spectrum4 = file_data[4].values\n",
    "    \n",
    "    return spectrum1,spectrum2,spectrum3,spectrum4"
   ]
  },
  {
   "cell_type": "code",
   "execution_count": 4,
   "metadata": {
    "scrolled": false
   },
   "outputs": [
    {
     "ename": "AttributeError",
     "evalue": "module 'pandas' has no attribute 'read_csv'",
     "output_type": "error",
     "traceback": [
      "\u001b[1;31m---------------------------------------------------------------------------\u001b[0m",
      "\u001b[1;31mAttributeError\u001b[0m                            Traceback (most recent call last)",
      "\u001b[1;32m<ipython-input-4-6d6e24c18ecc>\u001b[0m in \u001b[0;36m<module>\u001b[1;34m()\u001b[0m\n\u001b[0;32m      7\u001b[0m \u001b[1;32mfor\u001b[0m \u001b[0mi\u001b[0m \u001b[1;32min\u001b[0m \u001b[0mm_numbers\u001b[0m\u001b[1;33m:\u001b[0m\u001b[1;33m\u001b[0m\u001b[0m\n\u001b[0;32m      8\u001b[0m     \u001b[1;31m#checks that files have associated temperature measurements, and removes the files if not\u001b[0m\u001b[1;33m\u001b[0m\u001b[1;33m\u001b[0m\u001b[0m\n\u001b[1;32m----> 9\u001b[1;33m     \u001b[0mtemp_check\u001b[0m \u001b[1;33m=\u001b[0m \u001b[0mread_file\u001b[0m\u001b[1;33m(\u001b[0m\u001b[0mpath_raw\u001b[0m\u001b[1;33m,\u001b[0m \u001b[0mfile_name\u001b[0m \u001b[1;33m+\u001b[0m \u001b[1;34m'{0:03}'\u001b[0m\u001b[1;33m.\u001b[0m\u001b[0mformat\u001b[0m\u001b[1;33m(\u001b[0m\u001b[0mi\u001b[0m\u001b[1;33m)\u001b[0m \u001b[1;33m+\u001b[0m \u001b[1;34m'.txt'\u001b[0m\u001b[1;33m,\u001b[0m \u001b[0mseparator\u001b[0m\u001b[1;33m=\u001b[0m\u001b[1;34m','\u001b[0m\u001b[1;33m,\u001b[0m \u001b[0mrowstoskip\u001b[0m\u001b[1;33m=\u001b[0m\u001b[1;32mNone\u001b[0m\u001b[1;33m,\u001b[0m \u001b[0mhead\u001b[0m\u001b[1;33m=\u001b[0m\u001b[1;32mNone\u001b[0m\u001b[1;33m)\u001b[0m\u001b[1;33m.\u001b[0m\u001b[0miloc\u001b[0m\u001b[1;33m[\u001b[0m\u001b[1;36m1\u001b[0m\u001b[1;33m,\u001b[0m\u001b[1;36m0\u001b[0m\u001b[1;33m]\u001b[0m\u001b[1;33m\u001b[0m\u001b[0m\n\u001b[0m\u001b[0;32m     10\u001b[0m     \u001b[0mtemp_check_float\u001b[0m \u001b[1;33m=\u001b[0m \u001b[0mfloat\u001b[0m\u001b[1;33m(\u001b[0m\u001b[0mtemp_check\u001b[0m\u001b[1;33m.\u001b[0m\u001b[0msplit\u001b[0m\u001b[1;33m(\u001b[0m\u001b[1;33m)\u001b[0m\u001b[1;33m[\u001b[0m\u001b[1;36m0\u001b[0m\u001b[1;33m]\u001b[0m\u001b[1;33m)\u001b[0m\u001b[1;33m\u001b[0m\u001b[0m\n\u001b[0;32m     11\u001b[0m     \u001b[1;32mif\u001b[0m \u001b[0mtemp_check_float\u001b[0m \u001b[1;33m==\u001b[0m \u001b[1;36m0.0\u001b[0m\u001b[1;33m:\u001b[0m\u001b[1;33m\u001b[0m\u001b[0m\n",
      "\u001b[1;32m<ipython-input-3-d147b052a0af>\u001b[0m in \u001b[0;36mread_file\u001b[1;34m(directory, filename, separator, rowstoskip, head)\u001b[0m\n\u001b[0;32m      8\u001b[0m     \"\"\"\n\u001b[0;32m      9\u001b[0m     \u001b[0mpath\u001b[0m\u001b[1;33m=\u001b[0m\u001b[0mos\u001b[0m\u001b[1;33m.\u001b[0m\u001b[0mpath\u001b[0m\u001b[1;33m.\u001b[0m\u001b[0mjoin\u001b[0m\u001b[1;33m(\u001b[0m\u001b[0mdirectory\u001b[0m\u001b[1;33m,\u001b[0m \u001b[0mfilename\u001b[0m\u001b[1;33m)\u001b[0m\u001b[1;33m\u001b[0m\u001b[0m\n\u001b[1;32m---> 10\u001b[1;33m     \u001b[0mdataset\u001b[0m \u001b[1;33m=\u001b[0m \u001b[0mpd\u001b[0m\u001b[1;33m.\u001b[0m\u001b[0mread_csv\u001b[0m\u001b[1;33m(\u001b[0m\u001b[0mpath\u001b[0m\u001b[1;33m,\u001b[0m \u001b[0mheader\u001b[0m \u001b[1;33m=\u001b[0m \u001b[0mhead\u001b[0m\u001b[1;33m,\u001b[0m \u001b[0msep\u001b[0m\u001b[1;33m=\u001b[0m\u001b[0mseparator\u001b[0m\u001b[1;33m,\u001b[0m \u001b[0mskiprows\u001b[0m\u001b[1;33m=\u001b[0m\u001b[0mrowstoskip\u001b[0m\u001b[1;33m)\u001b[0m\u001b[1;33m\u001b[0m\u001b[0m\n\u001b[0m\u001b[0;32m     11\u001b[0m \u001b[1;33m\u001b[0m\u001b[0m\n\u001b[0;32m     12\u001b[0m     \u001b[1;32mreturn\u001b[0m \u001b[0mdataset\u001b[0m\u001b[1;33m\u001b[0m\u001b[0m\n",
      "\u001b[1;31mAttributeError\u001b[0m: module 'pandas' has no attribute 'read_csv'"
     ]
    }
   ],
   "source": [
    "# CODE\n",
    "\n",
    "#create list of file paths starting with file_name from 'path_raw' directory\n",
    "measurements = len(glob.glob(path_raw + '/'+ file_name + '*')) #filepaths of all 'IC_raw_spectra' files\n",
    "m_numbers = list(range(measurements)) #list of file name endings (integers)\n",
    "\n",
    "for i in m_numbers:\n",
    "    #checks that files have associated temperature measurements, and removes the files if not\n",
    "    temp_check = read_file(path_raw, file_name + '{0:03}'.format(i) + '.txt', separator=',', rowstoskip=None, head=None).iloc[1,0]\n",
    "    temp_check_float = float(temp_check.split()[0])\n",
    "    if temp_check_float == 0.0:\n",
    "        m_numbers.pop(i)\n",
    "\n",
    "files = [file_name + '{0:03}'.format(num) + '.txt' for num in m_numbers] #final list of strings of file names, in order"
   ]
  },
  {
   "cell_type": "code",
   "execution_count": null,
   "metadata": {},
   "outputs": [],
   "source": [
    "columns_ = ['RT0','RT1','RT2','Dummy','RT3','RT4','HBB_temp','CBB_temp','Time', 'Orientation'] #columns for Pandas DataFrame\n",
    "\n",
    "read_temps = []\n",
    "\n",
    "for i in np.arange(0,len(files)):\n",
    "    #Go through files and retrieve temperatures and orientations of spectra\n",
    "    read_temps.append( read_file(path_raw, files[i], separator=',', rowstoskip=None, head=None).iloc[1:5,0].str.split() )\n",
    "    read_temps_flat = list(itertools.chain(*read_temps)) #flatten read_temps_i\n",
    "\n",
    "times_temps = pd.DataFrame(read_temps_flat, columns = columns_)"
   ]
  },
  {
   "cell_type": "code",
   "execution_count": null,
   "metadata": {},
   "outputs": [],
   "source": [
    "times_temps.drop(['Dummy'], axis = 1, inplace = True, errors = 'ignore')\n",
    "times_temps['hc'] = np.nan #add empty 'hc' column\n",
    "\n",
    "times_temps.loc[times_temps['Orientation'] == '270', 'hc'] = 'h'             #If 'Orientation'=270 degrees from nadir, then facing HBB\n",
    "times_temps.loc[times_temps['Orientation'] == '225', 'hc'] = 'c'             #facing CBB\n",
    "times_temps.loc[times_temps['Orientation'] == '20', 'hc'] = 'sand'           #sand view at 20 degrees from nadir\n",
    "times_temps.loc[times_temps['Orientation'] == '160', 'hc'] = 'sky_sand'      #sky view for sand measurement\n",
    "times_temps.loc[times_temps['Orientation'] == '55', 'hc'] = 'water'          #water view at 55 degrees from nadir\n",
    "times_temps.loc[times_temps['Orientation'] == '125', 'hc'] = 'sky_water'     #sky view for water measurement\n",
    "\n",
    "columns_.pop(columns_.index('Time')) #Remove b from list\n",
    "columns_.pop(columns_.index('Orientation'))\n",
    "times_temps = times_temps[['Time']+columns_] #Create new dataframe with columns in the order you want"
   ]
  },
  {
   "cell_type": "code",
   "execution_count": null,
   "metadata": {},
   "outputs": [],
   "source": [
    "times_temps"
   ]
  },
  {
   "cell_type": "code",
   "execution_count": null,
   "metadata": {},
   "outputs": [],
   "source": []
  }
 ],
 "metadata": {
  "kernelspec": {
   "display_name": "Python 3",
   "language": "python",
   "name": "python3"
  },
  "language_info": {
   "codemirror_mode": {
    "name": "ipython",
    "version": 3
   },
   "file_extension": ".py",
   "mimetype": "text/x-python",
   "name": "python",
   "nbconvert_exporter": "python",
   "pygments_lexer": "ipython3",
   "version": "3.6.5"
  }
 },
 "nbformat": 4,
 "nbformat_minor": 2
}
